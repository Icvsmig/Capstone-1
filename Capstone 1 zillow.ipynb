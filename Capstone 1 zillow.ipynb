{
 "cells": [
  {
   "cell_type": "markdown",
   "metadata": {},
   "source": [
    "## Capstone 1 \n",
    "### House prices in the last 20 years "
   ]
  },
  {
   "cell_type": "code",
   "execution_count": 9,
   "metadata": {},
   "outputs": [],
   "source": [
    "# Import the libraries\n",
    "import pandas as pd\n",
    "import numpy as np\n",
    "import matplotlib.pyplot as plt\n",
    "%matplotlib inline\n",
    "from pylab import rcParams\n",
    "import pandas_profiling as pp\n",
    "import seaborn as sns\n",
    "from scipy.stats import kde\n",
    "\n"
   ]
  },
  {
   "cell_type": "markdown",
   "metadata": {},
   "source": [
    "## Dataset  \n",
    "I downloaded the dataset from kaggle. This dataset presents the Housing prices on Zillow from the year 1996 to 2018. The dataset is not the price of sale or purchase its just the listing price of the houses. The Dataset includes all of the states, major cities and the metro areas.I chose this Data set because I was curious if it was actually more effective to buy a house after a crash or just buy it before any of the financial crisis began. The dataset is significant because it shows the impact of Financial crisis on a country's housing market in popular states like New York vs South Dakota.  Why did I choose  this Data? distribution of sizerank? explore it a little"
   ]
  },
  {
   "cell_type": "code",
   "execution_count": 15,
   "metadata": {},
   "outputs": [
    {
     "data": {
      "text/html": [
       "<div>\n",
       "<style scoped>\n",
       "    .dataframe tbody tr th:only-of-type {\n",
       "        vertical-align: middle;\n",
       "    }\n",
       "\n",
       "    .dataframe tbody tr th {\n",
       "        vertical-align: top;\n",
       "    }\n",
       "\n",
       "    .dataframe thead th {\n",
       "        text-align: right;\n",
       "    }\n",
       "</style>\n",
       "<table border=\"1\" class=\"dataframe\">\n",
       "  <thead>\n",
       "    <tr style=\"text-align: right;\">\n",
       "      <th></th>\n",
       "      <th>Unnamed: 0</th>\n",
       "      <th>RegionID</th>\n",
       "      <th>RegionName</th>\n",
       "      <th>City</th>\n",
       "      <th>State</th>\n",
       "      <th>Metro</th>\n",
       "      <th>CountyName</th>\n",
       "      <th>SizeRank</th>\n",
       "      <th>1996-04</th>\n",
       "      <th>1996-05</th>\n",
       "      <th>...</th>\n",
       "      <th>2018-03</th>\n",
       "      <th>2018-04</th>\n",
       "      <th>2018-05</th>\n",
       "      <th>2018-06</th>\n",
       "      <th>2018-07</th>\n",
       "      <th>2018-08</th>\n",
       "      <th>2018-09</th>\n",
       "      <th>2018-10</th>\n",
       "      <th>2018-11</th>\n",
       "      <th>2018-12</th>\n",
       "    </tr>\n",
       "  </thead>\n",
       "  <tbody>\n",
       "    <tr>\n",
       "      <th>0</th>\n",
       "      <td>0</td>\n",
       "      <td>84654</td>\n",
       "      <td>60657</td>\n",
       "      <td>Chicago</td>\n",
       "      <td>IL</td>\n",
       "      <td>Chicago-Naperville-Elgin</td>\n",
       "      <td>Cook County</td>\n",
       "      <td>1</td>\n",
       "      <td>334200.0</td>\n",
       "      <td>335400.0</td>\n",
       "      <td>...</td>\n",
       "      <td>1037400</td>\n",
       "      <td>1038700</td>\n",
       "      <td>1041500</td>\n",
       "      <td>1042800</td>\n",
       "      <td>1042900</td>\n",
       "      <td>1044400</td>\n",
       "      <td>1047800</td>\n",
       "      <td>1049700</td>\n",
       "      <td>1048300</td>\n",
       "      <td>1047900</td>\n",
       "    </tr>\n",
       "    <tr>\n",
       "      <th>1</th>\n",
       "      <td>1</td>\n",
       "      <td>91982</td>\n",
       "      <td>77494</td>\n",
       "      <td>Katy</td>\n",
       "      <td>TX</td>\n",
       "      <td>Houston-The Woodlands-Sugar Land</td>\n",
       "      <td>Harris County</td>\n",
       "      <td>2</td>\n",
       "      <td>210400.0</td>\n",
       "      <td>212200.0</td>\n",
       "      <td>...</td>\n",
       "      <td>330400</td>\n",
       "      <td>332700</td>\n",
       "      <td>334500</td>\n",
       "      <td>335900</td>\n",
       "      <td>337000</td>\n",
       "      <td>338300</td>\n",
       "      <td>338400</td>\n",
       "      <td>336900</td>\n",
       "      <td>336000</td>\n",
       "      <td>336500</td>\n",
       "    </tr>\n",
       "    <tr>\n",
       "      <th>2</th>\n",
       "      <td>2</td>\n",
       "      <td>84616</td>\n",
       "      <td>60614</td>\n",
       "      <td>Chicago</td>\n",
       "      <td>IL</td>\n",
       "      <td>Chicago-Naperville-Elgin</td>\n",
       "      <td>Cook County</td>\n",
       "      <td>3</td>\n",
       "      <td>498100.0</td>\n",
       "      <td>500900.0</td>\n",
       "      <td>...</td>\n",
       "      <td>1317900</td>\n",
       "      <td>1321100</td>\n",
       "      <td>1325300</td>\n",
       "      <td>1323800</td>\n",
       "      <td>1321200</td>\n",
       "      <td>1320700</td>\n",
       "      <td>1319500</td>\n",
       "      <td>1318800</td>\n",
       "      <td>1319700</td>\n",
       "      <td>1323300</td>\n",
       "    </tr>\n",
       "    <tr>\n",
       "      <th>3</th>\n",
       "      <td>3</td>\n",
       "      <td>93144</td>\n",
       "      <td>79936</td>\n",
       "      <td>El Paso</td>\n",
       "      <td>TX</td>\n",
       "      <td>El Paso</td>\n",
       "      <td>El Paso County</td>\n",
       "      <td>4</td>\n",
       "      <td>77300.0</td>\n",
       "      <td>77300.0</td>\n",
       "      <td>...</td>\n",
       "      <td>120800</td>\n",
       "      <td>121300</td>\n",
       "      <td>122200</td>\n",
       "      <td>123000</td>\n",
       "      <td>123600</td>\n",
       "      <td>124500</td>\n",
       "      <td>125600</td>\n",
       "      <td>126300</td>\n",
       "      <td>126800</td>\n",
       "      <td>127400</td>\n",
       "    </tr>\n",
       "    <tr>\n",
       "      <th>4</th>\n",
       "      <td>4</td>\n",
       "      <td>91940</td>\n",
       "      <td>77449</td>\n",
       "      <td>Katy</td>\n",
       "      <td>TX</td>\n",
       "      <td>Houston-The Woodlands-Sugar Land</td>\n",
       "      <td>Harris County</td>\n",
       "      <td>5</td>\n",
       "      <td>95400.0</td>\n",
       "      <td>95600.0</td>\n",
       "      <td>...</td>\n",
       "      <td>175500</td>\n",
       "      <td>176400</td>\n",
       "      <td>176900</td>\n",
       "      <td>176900</td>\n",
       "      <td>177300</td>\n",
       "      <td>178000</td>\n",
       "      <td>178500</td>\n",
       "      <td>179300</td>\n",
       "      <td>180200</td>\n",
       "      <td>180700</td>\n",
       "    </tr>\n",
       "  </tbody>\n",
       "</table>\n",
       "<p>5 rows × 281 columns</p>\n",
       "</div>"
      ],
      "text/plain": [
       "   Unnamed: 0  RegionID  RegionName     City State  \\\n",
       "0           0     84654       60657  Chicago    IL   \n",
       "1           1     91982       77494     Katy    TX   \n",
       "2           2     84616       60614  Chicago    IL   \n",
       "3           3     93144       79936  El Paso    TX   \n",
       "4           4     91940       77449     Katy    TX   \n",
       "\n",
       "                              Metro      CountyName  SizeRank   1996-04  \\\n",
       "0          Chicago-Naperville-Elgin     Cook County         1  334200.0   \n",
       "1  Houston-The Woodlands-Sugar Land   Harris County         2  210400.0   \n",
       "2          Chicago-Naperville-Elgin     Cook County         3  498100.0   \n",
       "3                           El Paso  El Paso County         4   77300.0   \n",
       "4  Houston-The Woodlands-Sugar Land   Harris County         5   95400.0   \n",
       "\n",
       "    1996-05  ...  2018-03  2018-04  2018-05  2018-06  2018-07  2018-08  \\\n",
       "0  335400.0  ...  1037400  1038700  1041500  1042800  1042900  1044400   \n",
       "1  212200.0  ...   330400   332700   334500   335900   337000   338300   \n",
       "2  500900.0  ...  1317900  1321100  1325300  1323800  1321200  1320700   \n",
       "3   77300.0  ...   120800   121300   122200   123000   123600   124500   \n",
       "4   95600.0  ...   175500   176400   176900   176900   177300   178000   \n",
       "\n",
       "   2018-09  2018-10  2018-11  2018-12  \n",
       "0  1047800  1049700  1048300  1047900  \n",
       "1   338400   336900   336000   336500  \n",
       "2  1319500  1318800  1319700  1323300  \n",
       "3   125600   126300   126800   127400  \n",
       "4   178500   179300   180200   180700  \n",
       "\n",
       "[5 rows x 281 columns]"
      ]
     },
     "execution_count": 15,
     "metadata": {},
     "output_type": "execute_result"
    }
   ],
   "source": [
    "#upload the dataset \n",
    "df = pd.read_csv(r'C:\\Users\\Rahul Miglani\\zillow.csv')\n",
    "# look at the dataset to identify columns I will be exploring\n",
    "df.head(5) "
   ]
  },
  {
   "cell_type": "code",
   "execution_count": 11,
   "metadata": {
    "scrolled": true
   },
   "outputs": [
    {
     "name": "stdout",
     "output_type": "stream",
     "text": [
      "15508\n"
     ]
    }
   ],
   "source": [
    "Region_Name = df['RegionName'].unique()\n",
    "print(len(Region_Name))"
   ]
  },
  {
   "cell_type": "markdown",
   "metadata": {},
   "source": [
    "The Region name has a unique value for every single dataset, There are no patterns here that need to be explored here. "
   ]
  },
  {
   "cell_type": "code",
   "execution_count": 17,
   "metadata": {},
   "outputs": [
    {
     "data": {
      "text/plain": [
       "(15508, 281)"
      ]
     },
     "execution_count": 17,
     "metadata": {},
     "output_type": "execute_result"
    }
   ],
   "source": [
    "# look at number of rows and columns\n",
    "numrows_cols = df.shape\n",
    "numrows_cols"
   ]
  },
  {
   "cell_type": "code",
   "execution_count": 18,
   "metadata": {},
   "outputs": [
    {
     "name": "stdout",
     "output_type": "stream",
     "text": [
      "<class 'pandas.core.frame.DataFrame'>\n",
      "RangeIndex: 15508 entries, 0 to 15507\n",
      "Columns: 281 entries, Unnamed: 0 to 2018-12\n",
      "dtypes: float64(225), int64(52), object(4)\n",
      "memory usage: 33.2+ MB\n"
     ]
    }
   ],
   "source": [
    "df.info()"
   ]
  },
  {
   "cell_type": "code",
   "execution_count": 19,
   "metadata": {},
   "outputs": [
    {
     "data": {
      "text/plain": [
       "Unnamed: 0       0\n",
       "RegionID         0\n",
       "RegionName       0\n",
       "City             0\n",
       "State            0\n",
       "Metro         1403\n",
       "CountyName       0\n",
       "SizeRank         0\n",
       "1996-04       1170\n",
       "1996-05       1170\n",
       "1996-06       1170\n",
       "1996-07       1170\n",
       "1996-08       1170\n",
       "1996-09       1170\n",
       "1996-10       1170\n",
       "1996-11       1170\n",
       "1996-12       1170\n",
       "1997-01       1170\n",
       "1997-02       1170\n",
       "1997-03       1170\n",
       "1997-04       1170\n",
       "1997-05       1170\n",
       "1997-06       1170\n",
       "1997-07       1169\n",
       "1997-08       1169\n",
       "1997-09       1169\n",
       "1997-10       1169\n",
       "1997-11       1169\n",
       "1997-12       1169\n",
       "1998-01       1167\n",
       "              ... \n",
       "2016-07          0\n",
       "2016-08          0\n",
       "2016-09          0\n",
       "2016-10          0\n",
       "2016-11          0\n",
       "2016-12          0\n",
       "2017-01          0\n",
       "2017-02          0\n",
       "2017-03          0\n",
       "2017-04          0\n",
       "2017-05          0\n",
       "2017-06          0\n",
       "2017-07          0\n",
       "2017-08          0\n",
       "2017-09          0\n",
       "2017-10          0\n",
       "2017-11          0\n",
       "2017-12          0\n",
       "2018-01          0\n",
       "2018-02          0\n",
       "2018-03          0\n",
       "2018-04          0\n",
       "2018-05          0\n",
       "2018-06          0\n",
       "2018-07          0\n",
       "2018-08          0\n",
       "2018-09          0\n",
       "2018-10          0\n",
       "2018-11          0\n",
       "2018-12          0\n",
       "Length: 281, dtype: int64"
      ]
     },
     "execution_count": 19,
     "metadata": {},
     "output_type": "execute_result"
    }
   ],
   "source": [
    "# Now I have to decide which columns have null values and how many there are in the DF\n",
    "none = df.isnull().sum()\n",
    "none"
   ]
  },
  {
   "cell_type": "code",
   "execution_count": 16,
   "metadata": {
    "scrolled": true
   },
   "outputs": [
    {
     "data": {
      "image/png": "[encoded data removed]",
      "text/plain": [
       "<Figure size 1440x720 with 1 Axes>"
      ]
     },
     "metadata": {
      "needs_background": "light"
     },
     "output_type": "display_data"
    }
   ],
   "source": [
    "plt.rcParams['figure.figsize'] = 20, 10\n",
    "plt.rcParams['font.size'] = 10.0 \n",
    "df['City'].value_counts()[:40].plot(kind='bar')\n",
    "plt.title('40 most reported Cities in the dataset ')\n",
    "plt.xlabel('City')\n",
    "plt.ylabel('Count')\n",
    "\n",
    "plt.show()"
   ]
  },
  {
   "cell_type": "code",
   "execution_count": null,
   "metadata": {},
   "outputs": [],
   "source": [
    "plt.rcParams['figure.figsize'] = 20, 5\n",
    "plt.rcParams['font.size'] = 15.0 \n",
    "df['State'].value_counts()[:51].plot(kind='bar')\n",
    "plt.title('States reported in the Dataset')\n",
    "plt.xlabel('State')\n",
    "plt.ylabel('Count')\n",
    "\n",
    "plt.show()"
   ]
  },
  {
   "cell_type": "code",
   "execution_count": null,
   "metadata": {
    "scrolled": false
   },
   "outputs": [],
   "source": [
    "# Take a look at the States "
   ]
  },
  {
   "cell_type": "markdown",
   "metadata": {},
   "source": [
    "The graph above represents the States with the most and least number of houses in the Dataset. This gave me insight to find out \"How the Financial crisis impacted a State like NY vs SD. "
   ]
  },
  {
   "cell_type": "code",
   "execution_count": 21,
   "metadata": {},
   "outputs": [],
   "source": [
    "df1 = df[~df.isin(['NaN', 'NaT']).any(axis=1)]"
   ]
  },
  {
   "cell_type": "code",
   "execution_count": 22,
   "metadata": {},
   "outputs": [
    {
     "data": {
      "text/plain": [
       "Unnamed: 0       0\n",
       "RegionID         0\n",
       "RegionName       0\n",
       "City             0\n",
       "State            0\n",
       "Metro         1403\n",
       "CountyName       0\n",
       "SizeRank         0\n",
       "1996-04       1170\n",
       "1996-05       1170\n",
       "1996-06       1170\n",
       "1996-07       1170\n",
       "1996-08       1170\n",
       "1996-09       1170\n",
       "1996-10       1170\n",
       "1996-11       1170\n",
       "1996-12       1170\n",
       "1997-01       1170\n",
       "1997-02       1170\n",
       "1997-03       1170\n",
       "1997-04       1170\n",
       "1997-05       1170\n",
       "1997-06       1170\n",
       "1997-07       1169\n",
       "1997-08       1169\n",
       "1997-09       1169\n",
       "1997-10       1169\n",
       "1997-11       1169\n",
       "1997-12       1169\n",
       "1998-01       1167\n",
       "              ... \n",
       "2016-07          0\n",
       "2016-08          0\n",
       "2016-09          0\n",
       "2016-10          0\n",
       "2016-11          0\n",
       "2016-12          0\n",
       "2017-01          0\n",
       "2017-02          0\n",
       "2017-03          0\n",
       "2017-04          0\n",
       "2017-05          0\n",
       "2017-06          0\n",
       "2017-07          0\n",
       "2017-08          0\n",
       "2017-09          0\n",
       "2017-10          0\n",
       "2017-11          0\n",
       "2017-12          0\n",
       "2018-01          0\n",
       "2018-02          0\n",
       "2018-03          0\n",
       "2018-04          0\n",
       "2018-05          0\n",
       "2018-06          0\n",
       "2018-07          0\n",
       "2018-08          0\n",
       "2018-09          0\n",
       "2018-10          0\n",
       "2018-11          0\n",
       "2018-12          0\n",
       "Length: 281, dtype: int64"
      ]
     },
     "execution_count": 22,
     "metadata": {},
     "output_type": "execute_result"
    }
   ],
   "source": [
    "df1.isnull().sum()"
   ]
  },
  {
   "cell_type": "code",
   "execution_count": null,
   "metadata": {},
   "outputs": [],
   "source": [
    "sns.distplot( df[\"2010-08\"] , color=\"skyblue\", label=\"Sepal Length\")\n",
    "sns.distplot( df[\"2018-08\"] , color=\"red\", label=\"Sepal Width\")\n",
    "sns.plt.legend()\n"
   ]
  },
  {
   "cell_type": "markdown",
   "metadata": {},
   "source": [
    "<font color=black># Questions about the Dataset</font>\n",
    "\n",
    "### 1. Compare the Housing Markets of NY , CA, and CO.\n"
   ]
  },
  {
   "cell_type": "code",
   "execution_count": 23,
   "metadata": {},
   "outputs": [],
   "source": [
    "# Here I have created a New Data Frame that will isolate State of New York and I included the following columns \n",
    "dfNY = df.loc[lambda df: df['State'] == 'NY',['RegionName','1996-04', '1996-05', '1999-06', '1999-07', '2000-08','2001-08','2002-08','2003-08'\n",
    "                                             ,'2004-08','2005-08','2006-08','2007-08','2008-08','2009-08','2010-08','2011-08','2012-08','2013-08','2014-08',\n",
    "                                             '2015-08','2016-08','2017-08','2018-08']]"
   ]
  },
  {
   "cell_type": "code",
   "execution_count": 24,
   "metadata": {},
   "outputs": [
    {
     "data": {
      "text/html": [
       "<div>\n",
       "<style scoped>\n",
       "    .dataframe tbody tr th:only-of-type {\n",
       "        vertical-align: middle;\n",
       "    }\n",
       "\n",
       "    .dataframe tbody tr th {\n",
       "        vertical-align: top;\n",
       "    }\n",
       "\n",
       "    .dataframe thead th {\n",
       "        text-align: right;\n",
       "    }\n",
       "</style>\n",
       "<table border=\"1\" class=\"dataframe\">\n",
       "  <thead>\n",
       "    <tr style=\"text-align: right;\">\n",
       "      <th></th>\n",
       "      <th>RegionName</th>\n",
       "      <th>Date</th>\n",
       "      <th>Value</th>\n",
       "    </tr>\n",
       "  </thead>\n",
       "  <tbody>\n",
       "    <tr>\n",
       "      <th>0</th>\n",
       "      <td>10467.0</td>\n",
       "      <td>1996-05</td>\n",
       "      <td>10467.0</td>\n",
       "    </tr>\n",
       "    <tr>\n",
       "      <th>1</th>\n",
       "      <td>10467.0</td>\n",
       "      <td>1999-06</td>\n",
       "      <td>152900.0</td>\n",
       "    </tr>\n",
       "    <tr>\n",
       "      <th>2</th>\n",
       "      <td>10467.0</td>\n",
       "      <td>1999-07</td>\n",
       "      <td>152700.0</td>\n",
       "    </tr>\n",
       "    <tr>\n",
       "      <th>3</th>\n",
       "      <td>10467.0</td>\n",
       "      <td>2000-08</td>\n",
       "      <td>166100.0</td>\n",
       "    </tr>\n",
       "    <tr>\n",
       "      <th>4</th>\n",
       "      <td>10467.0</td>\n",
       "      <td>2001-08</td>\n",
       "      <td>167300.0</td>\n",
       "    </tr>\n",
       "  </tbody>\n",
       "</table>\n",
       "</div>"
      ],
      "text/plain": [
       "   RegionName     Date     Value\n",
       "0     10467.0  1996-05   10467.0\n",
       "1     10467.0  1999-06  152900.0\n",
       "2     10467.0  1999-07  152700.0\n",
       "3     10467.0  2000-08  166100.0\n",
       "4     10467.0  2001-08  167300.0"
      ]
     },
     "execution_count": 24,
     "metadata": {},
     "output_type": "execute_result"
    }
   ],
   "source": [
    "# This function iterates over rows in my new dfNY and creates three columns with RegionName, Date and Values \n",
    "cols = ['1996-05', '1999-06', '1999-07', '2000-08','2001-08','2002-08','2003-08','2004-08','2005-08','2006-08','2007-08','2008-08','2009-08',\n",
    "        '2010-08','2011-08','2012-08','2013-08','2014-08','2015-08','2016-08','2017-08','2018-08']\n",
    "\n",
    "myd = {}\n",
    "\n",
    "for row in dfNY.iterrows():\n",
    "\n",
    "    for idx,col in enumerate(cols):\n",
    "        \n",
    "        if not pd.isnull(row[1][idx]):\n",
    "            try: \n",
    "                myd['RegionName'].append(row[1][0])\n",
    "                myd['Date'].append(cols[idx])\n",
    "                myd['Value'].append(row[1][idx])\n",
    "            except: \n",
    "                myd['RegionName'] = [row[1][0]]\n",
    "                myd['Date'] = [cols[idx]]\n",
    "                myd['Value'] = [row[1][idx]]\n",
    "\n",
    "new_df = pd.DataFrame(myd)\n",
    "new_df.head()"
   ]
  },
  {
   "cell_type": "code",
   "execution_count": 25,
   "metadata": {},
   "outputs": [
    {
     "data": {
      "image/png": "[encoded data removed]",
      "text/plain": [
       "<Figure size 1440x720 with 1 Axes>"
      ]
     },
     "metadata": {
      "needs_background": "light"
     },
     "output_type": "display_data"
    }
   ],
   "source": [
    "x = new_df['Date']\n",
    "y = new_df['Value']\n",
    "plt.rcParams['figure.figsize'] = 20, 10\n",
    "plt.rcParams['font.size'] = 8.0 \n",
    "plt.title('House price in NY each year')\n",
    "plt.xlabel('Date')\n",
    "plt.ylabel('price')\n",
    "markersize=0.3\n",
    "plt.scatter(x,y)\n",
    "plt.show()\n"
   ]
  },
  {
   "cell_type": "code",
   "execution_count": 26,
   "metadata": {},
   "outputs": [],
   "source": [
    "\n",
    "dfCA = df.loc[lambda df: df['State'] == 'CA',['RegionName','1996-04', '1996-05', '1999-06', '1999-07', '2000-08','2001-08','2002-08','2003-08'\n",
    "                                             ,'2004-08','2005-08','2006-08','2007-08','2008-08','2009-08','2010-08','2011-08','2012-08','2013-08','2014-08',\n",
    "                                             '2015-08','2016-08','2017-08','2018-08']]"
   ]
  },
  {
   "cell_type": "code",
   "execution_count": 27,
   "metadata": {},
   "outputs": [
    {
     "data": {
      "text/html": [
       "<div>\n",
       "<style scoped>\n",
       "    .dataframe tbody tr th:only-of-type {\n",
       "        vertical-align: middle;\n",
       "    }\n",
       "\n",
       "    .dataframe tbody tr th {\n",
       "        vertical-align: top;\n",
       "    }\n",
       "\n",
       "    .dataframe thead th {\n",
       "        text-align: right;\n",
       "    }\n",
       "</style>\n",
       "<table border=\"1\" class=\"dataframe\">\n",
       "  <thead>\n",
       "    <tr style=\"text-align: right;\">\n",
       "      <th></th>\n",
       "      <th>RegionName</th>\n",
       "      <th>Date</th>\n",
       "      <th>Value</th>\n",
       "    </tr>\n",
       "  </thead>\n",
       "  <tbody>\n",
       "    <tr>\n",
       "      <th>0</th>\n",
       "      <td>94109.0</td>\n",
       "      <td>1996-05</td>\n",
       "      <td>94109.0</td>\n",
       "    </tr>\n",
       "    <tr>\n",
       "      <th>1</th>\n",
       "      <td>94109.0</td>\n",
       "      <td>1999-06</td>\n",
       "      <td>766000.0</td>\n",
       "    </tr>\n",
       "    <tr>\n",
       "      <th>2</th>\n",
       "      <td>94109.0</td>\n",
       "      <td>1999-07</td>\n",
       "      <td>771100.0</td>\n",
       "    </tr>\n",
       "    <tr>\n",
       "      <th>3</th>\n",
       "      <td>94109.0</td>\n",
       "      <td>2000-08</td>\n",
       "      <td>1353300.0</td>\n",
       "    </tr>\n",
       "    <tr>\n",
       "      <th>4</th>\n",
       "      <td>94109.0</td>\n",
       "      <td>2001-08</td>\n",
       "      <td>1384000.0</td>\n",
       "    </tr>\n",
       "  </tbody>\n",
       "</table>\n",
       "</div>"
      ],
      "text/plain": [
       "   RegionName     Date      Value\n",
       "0     94109.0  1996-05    94109.0\n",
       "1     94109.0  1999-06   766000.0\n",
       "2     94109.0  1999-07   771100.0\n",
       "3     94109.0  2000-08  1353300.0\n",
       "4     94109.0  2001-08  1384000.0"
      ]
     },
     "execution_count": 27,
     "metadata": {},
     "output_type": "execute_result"
    }
   ],
   "source": [
    "cols = ['1996-05', '1999-06', '1999-07', '2000-08','2001-08','2002-08','2003-08','2004-08','2005-08','2006-08','2007-08','2008-08','2009-08',\n",
    "        '2010-08','2011-08','2012-08','2013-08','2014-08','2015-08','2016-08','2017-08','2018-08']\n",
    "\n",
    "myd = {}\n",
    "\n",
    "for row in dfCA.iterrows():\n",
    "\n",
    "    for idx,col in enumerate(cols):\n",
    "        \n",
    "        if not pd.isnull(row[1][idx]):\n",
    "            try: \n",
    "                myd['RegionName'].append(row[1][0])\n",
    "                myd['Date'].append(cols[idx])\n",
    "                myd['Value'].append(row[1][idx])\n",
    "            except: \n",
    "                myd['RegionName'] = [row[1][0]]\n",
    "                myd['Date'] = [cols[idx]]\n",
    "                myd['Value'] = [row[1][idx]]\n",
    "\n",
    "new_dfCA = pd.DataFrame(myd)\n",
    "new_dfCA.head()"
   ]
  },
  {
   "cell_type": "code",
   "execution_count": 28,
   "metadata": {},
   "outputs": [
    {
     "data": {
      "image/png": "[encoded data removed]",
      "text/plain": [
       "<Figure size 1440x720 with 1 Axes>"
      ]
     },
     "metadata": {
      "needs_background": "light"
     },
     "output_type": "display_data"
    }
   ],
   "source": [
    "a = new_dfCA['Date']\n",
    "b = new_dfCA['Value']\n",
    "plt.rcParams['figure.figsize'] = 20, 10\n",
    "plt.rcParams['font.size'] = 8.0 \n",
    "plt.title('House price in CA each year')\n",
    "plt.xlabel('Date')\n",
    "plt.ylabel('price')\n",
    "markersize=0.3\n",
    "plt.scatter(a,b)\n",
    "plt.show()\n"
   ]
  },
  {
   "cell_type": "code",
   "execution_count": 29,
   "metadata": {},
   "outputs": [],
   "source": [
    "dfCO = df.loc[lambda df: df['State'] == 'CO',['RegionName','1996-04', '1996-05', '1999-06', '1999-07', '2000-08','2001-08','2002-08','2003-08'\n",
    "                                             ,'2004-08','2005-08','2006-08','2007-08','2008-08','2009-08','2010-08','2011-08','2012-08','2013-08','2014-08',\n",
    "                                             '2015-08','2016-08','2017-08','2018-08']]"
   ]
  },
  {
   "cell_type": "code",
   "execution_count": 30,
   "metadata": {},
   "outputs": [
    {
     "data": {
      "text/html": [
       "<div>\n",
       "<style scoped>\n",
       "    .dataframe tbody tr th:only-of-type {\n",
       "        vertical-align: middle;\n",
       "    }\n",
       "\n",
       "    .dataframe tbody tr th {\n",
       "        vertical-align: top;\n",
       "    }\n",
       "\n",
       "    .dataframe thead th {\n",
       "        text-align: right;\n",
       "    }\n",
       "</style>\n",
       "<table border=\"1\" class=\"dataframe\">\n",
       "  <thead>\n",
       "    <tr style=\"text-align: right;\">\n",
       "      <th></th>\n",
       "      <th>RegionName</th>\n",
       "      <th>Date</th>\n",
       "      <th>Value</th>\n",
       "    </tr>\n",
       "  </thead>\n",
       "  <tbody>\n",
       "    <tr>\n",
       "      <th>0</th>\n",
       "      <td>80134.0</td>\n",
       "      <td>1996-05</td>\n",
       "      <td>80134.0</td>\n",
       "    </tr>\n",
       "    <tr>\n",
       "      <th>1</th>\n",
       "      <td>80134.0</td>\n",
       "      <td>1999-06</td>\n",
       "      <td>193700.0</td>\n",
       "    </tr>\n",
       "    <tr>\n",
       "      <th>2</th>\n",
       "      <td>80134.0</td>\n",
       "      <td>1999-07</td>\n",
       "      <td>193500.0</td>\n",
       "    </tr>\n",
       "    <tr>\n",
       "      <th>3</th>\n",
       "      <td>80134.0</td>\n",
       "      <td>2000-08</td>\n",
       "      <td>229300.0</td>\n",
       "    </tr>\n",
       "    <tr>\n",
       "      <th>4</th>\n",
       "      <td>80134.0</td>\n",
       "      <td>2001-08</td>\n",
       "      <td>231400.0</td>\n",
       "    </tr>\n",
       "  </tbody>\n",
       "</table>\n",
       "</div>"
      ],
      "text/plain": [
       "   RegionName     Date     Value\n",
       "0     80134.0  1996-05   80134.0\n",
       "1     80134.0  1999-06  193700.0\n",
       "2     80134.0  1999-07  193500.0\n",
       "3     80134.0  2000-08  229300.0\n",
       "4     80134.0  2001-08  231400.0"
      ]
     },
     "execution_count": 30,
     "metadata": {},
     "output_type": "execute_result"
    }
   ],
   "source": [
    "cols = ['1996-05', '1999-06', '1999-07', '2000-08','2001-08','2002-08','2003-08','2004-08','2005-08','2006-08','2007-08','2008-08','2009-08',\n",
    "        '2010-08','2011-08','2012-08','2013-08','2014-08','2015-08','2016-08','2017-08','2018-08']\n",
    "\n",
    "myd = {}\n",
    "\n",
    "for row in dfCO.iterrows():\n",
    "\n",
    "    for idx,col in enumerate(cols):\n",
    "        \n",
    "        if not pd.isnull(row[1][idx]):\n",
    "            try: \n",
    "                myd['RegionName'].append(row[1][0])\n",
    "                myd['Date'].append(cols[idx])\n",
    "                myd['Value'].append(row[1][idx])\n",
    "            except: \n",
    "                myd['RegionName'] = [row[1][0]]\n",
    "                myd['Date'] = [cols[idx]]\n",
    "                myd['Value'] = [row[1][idx]]\n",
    "\n",
    "new_dfCO = pd.DataFrame(myd)\n",
    "new_dfCO.head()"
   ]
  },
  {
   "cell_type": "code",
   "execution_count": 31,
   "metadata": {},
   "outputs": [
    {
     "data": {
      "image/png": "[encoded data removed]",
      "text/plain": [
       "<Figure size 1440x720 with 1 Axes>"
      ]
     },
     "metadata": {
      "needs_background": "light"
     },
     "output_type": "display_data"
    }
   ],
   "source": [
    "c = new_dfCO['Date']\n",
    "d = new_dfCO['Value']\n",
    "plt.rcParams['figure.figsize'] = 20, 10\n",
    "plt.rcParams['font.size'] = 8.0 \n",
    "plt.title('House price in CO each year')\n",
    "plt.xlabel('Date')\n",
    "plt.ylabel('price')\n",
    "markersize=0.3\n",
    "plt.scatter(c,d)\n",
    "plt.show()\n"
   ]
  },
  {
   "cell_type": "markdown",
   "metadata": {},
   "source": [
    "### 2. How Much was Colorado affected by the Housing Crisis from 2008-2011?"
   ]
  },
  {
   "cell_type": "code",
   "execution_count": 50,
   "metadata": {
    "scrolled": true
   },
   "outputs": [],
   "source": [
    "\n",
    "#To select rows whose column value equals a scalar, some_value, use ==:\n",
    "Date_cols = ['2000-08','2008-08','2009-08', '2010-08','2011-08','2012-08']\n",
    "colorado = df.loc[df['State'] == 'CO', Date_cols]"
   ]
  },
  {
   "cell_type": "code",
   "execution_count": 54,
   "metadata": {},
   "outputs": [
    {
     "name": "stderr",
     "output_type": "stream",
     "text": [
      "C:\\Users\\Rahul Miglani\\Anaconda3\\lib\\site-packages\\ipykernel_launcher.py:3: MatplotlibDeprecationWarning: \n",
      "The 'normed' kwarg was deprecated in Matplotlib 2.1 and will be removed in 3.1. Use 'density' instead.\n",
      "  This is separate from the ipykernel package so we can avoid doing imports until\n",
      "C:\\Users\\Rahul Miglani\\Anaconda3\\lib\\site-packages\\ipykernel_launcher.py:5: MatplotlibDeprecationWarning: \n",
      "The 'normed' kwarg was deprecated in Matplotlib 2.1 and will be removed in 3.1. Use 'density' instead.\n",
      "  \"\"\"\n"
     ]
    },
    {
     "data": {
      "image/png": "[encoded data removed]",
      "text/plain": [
       "<Figure size 1440x720 with 2 Axes>"
      ]
     },
     "metadata": {
      "needs_background": "light"
     },
     "output_type": "display_data"
    }
   ],
   "source": [
    "f, axarr = plt.subplots(2,1,figsize=(20,10))\n",
    "# plot hist of sample means for first var on the top subplot\n",
    "axarr[0].hist(colorado['2008-08'],normed=True, bins='auto')\n",
    "# plot hist of sample means for second var on the top subplot\n",
    "axarr[1].hist(colorado['2011-08'],normed=True,bins='auto')\n",
    "axarr[0].set_title('Housing prices of 2008 and 2011 in CO', color = 'b',fontsize = 20)\n",
    "axarr[0].set(xlim=(0, 500000),xlabel = 'Dollars', ylabel=\"Percent of Total\")\n",
    "axarr[1].set(xlim=(0, 500000), xlabel = 'Dollars', ylabel=\"percent of Total\")\n",
    "axarr[0].axvline(colorado['2008-08'].mean(), color='r', linestyle='solid', linewidth=2)\n",
    "axarr[1].axvline(colorado['2011-08'].mean(), color='r', linestyle='solid', linewidth=2)\n",
    "\n",
    "\n",
    "plt.show()"
   ]
  },
  {
   "cell_type": "markdown",
   "metadata": {},
   "source": [
    "The graph above shows the price fluctuation just a coule years after the recession in CO. "
   ]
  },
  {
   "cell_type": "code",
   "execution_count": 85,
   "metadata": {},
   "outputs": [
    {
     "data": {
      "text/plain": [
       "((299671.53846153844,), 258256.15384615384)"
      ]
     },
     "execution_count": 85,
     "metadata": {},
     "output_type": "execute_result"
    }
   ],
   "source": [
    "a1 = colorado['2008-08'].mean(), \n",
    "a2 =colorado['2011-08'].mean()\n",
    "a1,a2"
   ]
  },
  {
   "cell_type": "code",
   "execution_count": 83,
   "metadata": {},
   "outputs": [
    {
     "data": {
      "text/plain": [
       "(238500.0, 209900.0)"
      ]
     },
     "execution_count": 83,
     "metadata": {},
     "output_type": "execute_result"
    }
   ],
   "source": [
    "b = colorado['2008-08'].median(), colorado['2011-08'].median()"
   ]
  },
  {
   "cell_type": "markdown",
   "metadata": {},
   "source": [
    "### 3.Housing Market of US today compare to 2009?"
   ]
  },
  {
   "cell_type": "code",
   "execution_count": 72,
   "metadata": {},
   "outputs": [
    {
     "name": "stdout",
     "output_type": "stream",
     "text": [
      "       Unnamed: 0  RegionID  RegionName               City State  \\\n",
      "39             39     61796       10456           New York    NY   \n",
      "97             97     84613       60611            Chicago    IL   \n",
      "350           350     62036       11225           New York    NY   \n",
      "402           402     84340       60085           Waukegan    IL   \n",
      "493           493     87563       67401             Salina    KS   \n",
      "541           541     65798       19131       Philadelphia    PA   \n",
      "726           726     73596       35758            Madison    AL   \n",
      "879           879     70817       30032     Candler-Mcafee    GA   \n",
      "888           888     88539       70301          Thibodaux    LA   \n",
      "900           900     62004       11101           New York    NY   \n",
      "1043         1043     71286       30721             Dalton    GA   \n",
      "1405         1405     79755       49442           Muskegon    MI   \n",
      "1738         1738     79612       49221             Adrian    MI   \n",
      "1798         1798     97810       94608            Oakland    CA   \n",
      "1816         1816     86608       64804             Joplin    MO   \n",
      "1854         1854     88485       70122        New Orleans    LA   \n",
      "1910         1910     66114       19966          Millsboro    DE   \n",
      "1977         1977     94751       85035            Phoenix    AZ   \n",
      "2020         2020     95769       89030    North Las Vegas    NV   \n",
      "2129         2129     70996       30269     Peachtree City    GA   \n",
      "2271         2271     66084       19904              Dover    DE   \n",
      "2385         2385     66081       19901              Dover    DE   \n",
      "2409         2409    100135       99163            Pullman    WA   \n",
      "2459         2459     86767       65301            Sedalia    MO   \n",
      "2729         2729     86799       65401              Rolla    MO   \n",
      "2837         2837     98131       95351            Modesto    CA   \n",
      "2914         2914     58632        2118             Boston    MA   \n",
      "2995         2995     73623       35810         Huntsville    AL   \n",
      "3087         3087     94165       83440            Rexburg    ID   \n",
      "3149         3149     66835       21225      Brooklyn Park    MD   \n",
      "...           ...       ...         ...                ...   ...   \n",
      "15154       15154     84745       60966            Sheldon    IL   \n",
      "15156       15156     78719       47666             Patoka    IN   \n",
      "15157       15157     92921       79355             Plains    TX   \n",
      "15170       15170     79317       48662            Wheeler    MI   \n",
      "15172       15172     97351       93604          Bass Lake    CA   \n",
      "15190       15190     82627       56115            Balaton    MN   \n",
      "15212       15212     87574       67428             Canton    KS   \n",
      "15221       15221     87349       66860            Madison    KS   \n",
      "15224       15224     85878       63036     French Village    MO   \n",
      "15238       15238     79460       48889             Sumner    MI   \n",
      "15239       15239     80231       50233           Redfield    IA   \n",
      "15240       15240     81702       54459              Ogema    WI   \n",
      "15252       15252     78853       47948           Goodland    IN   \n",
      "15281       15281     80778       51638              Essex    IA   \n",
      "15309       15309     77183       44449       North Benton    OH   \n",
      "15312       15312     87384       66956            Mankato    KS   \n",
      "15320       15320     66113       19964            Marydel    DE   \n",
      "15329       15329     59990        5738         Shrewsbury    VT   \n",
      "15337       15337     85489       62440              Lerna    IL   \n",
      "15340       15340     87579       67437              Downs    KS   \n",
      "15341       15341     72865       33855         Lake Wales    FL   \n",
      "15355       15355     74197       37141            Orlinda    TN   \n",
      "15369       15369     87449       67070              Kiowa    KS   \n",
      "15399       15399     76460       43013           Hartford    OH   \n",
      "15424       15424     90184       73832             Arnett    OK   \n",
      "15450       15450     94662       84726          Escalante    UT   \n",
      "15452       15452     88256       68933        Clay Center    NE   \n",
      "15456       15456     82557       56016       Clarks Grove    MN   \n",
      "15487       15487     59046        3215  Waterville Valley    NH   \n",
      "15489       15489     99401       97733           Crescent    OR   \n",
      "\n",
      "                                            Metro             CountyName  \\\n",
      "39                    New York-Newark-Jersey City           Bronx County   \n",
      "97                       Chicago-Naperville-Elgin            Cook County   \n",
      "350                   New York-Newark-Jersey City           Kings County   \n",
      "402                      Chicago-Naperville-Elgin            Lake County   \n",
      "493                                        Salina          Saline County   \n",
      "541                Philadelphia-Camden-Wilmington    Philadelphia County   \n",
      "726                                    Huntsville         Madison County   \n",
      "879                 Atlanta-Sandy Springs-Roswell          Dekalb County   \n",
      "888                               Houma-Thibodaux       Lafourche Parish   \n",
      "900                   New York-Newark-Jersey City          Queens County   \n",
      "1043                                       Dalton       Whitfield County   \n",
      "1405                                     Muskegon        Muskegon County   \n",
      "1738                                       Adrian         Lenawee County   \n",
      "1798                San Francisco-Oakland-Hayward         Alameda County   \n",
      "1816                                       Joplin          Jasper County   \n",
      "1854                         New Orleans-Metairie         Orleans Parish   \n",
      "1910                                    Salisbury          Sussex County   \n",
      "1977                      Phoenix-Mesa-Scottsdale        Maricopa County   \n",
      "2020                 Las Vegas-Henderson-Paradise           Clark County   \n",
      "2129                Atlanta-Sandy Springs-Roswell         Fayette County   \n",
      "2271                                        Dover            Kent County   \n",
      "2385                                        Dover            Kent County   \n",
      "2409                                      Pullman         Whitman County   \n",
      "2459                                      Sedalia          Pettis County   \n",
      "2729                                        Rolla          Phelps County   \n",
      "2837                                      Modesto      Stanislaus County   \n",
      "2914                      Boston-Cambridge-Newton         Suffolk County   \n",
      "2995                                   Huntsville         Madison County   \n",
      "3087                                      Rexburg         Madison County   \n",
      "3149                    Baltimore-Columbia-Towson    Anne Arundel County   \n",
      "...                                           ...                    ...   \n",
      "15154                                         NaN        Iroquois County   \n",
      "15156                                         NaN          Gibson County   \n",
      "15157                                         NaN          Yoakum County   \n",
      "15170                                        Alma         Gratiot County   \n",
      "15172                                      Madera          Madera County   \n",
      "15190                                    Marshall            Lyon County   \n",
      "15212                                   McPherson       McPherson County   \n",
      "15221                                         NaN       Greenwood County   \n",
      "15224                                  Farmington  Saint Francois County   \n",
      "15238                                        Alma         Gratiot County   \n",
      "15239                  Des Moines-West Des Moines          Dallas County   \n",
      "15240                                         NaN           Price County   \n",
      "15252                    Chicago-Naperville-Elgin          Newton County   \n",
      "15281                                         NaN            Page County   \n",
      "15309                                       Akron         Portage County   \n",
      "15312                                         NaN          Jewell County   \n",
      "15320                                       Dover            Kent County   \n",
      "15329                                     Rutland         Rutland County   \n",
      "15337                          Charleston-Mattoon           Coles County   \n",
      "15340                                         NaN         Osborne County   \n",
      "15341                       Lakeland-Winter Haven            Polk County   \n",
      "15355  Nashville-Davidson--Murfreesboro--Franklin       Robertson County   \n",
      "15369                                         NaN          Barber County   \n",
      "15399                                    Columbus         Licking County   \n",
      "15424                                         NaN           Ellis County   \n",
      "15450                                         NaN        Garfield County   \n",
      "15452                                         NaN            Clay County   \n",
      "15456                                  Albert Lea        Freeborn County   \n",
      "15487                           Claremont-Lebanon         Grafton County   \n",
      "15489                               Klamath Falls         Klamath County   \n",
      "\n",
      "       SizeRank  1996-04  1996-05  ...  2018-03  2018-04  2018-05  2018-06  \\\n",
      "39           40      NaN      NaN  ...   389800   397000   400900   399000   \n",
      "97           98      NaN      NaN  ...  1521300  1508000  1498200  1495000   \n",
      "350         351      NaN      NaN  ...  1528800  1534700  1536900  1543700   \n",
      "402         403      NaN      NaN  ...   115400   116600   117600   117800   \n",
      "493         494      NaN      NaN  ...   114500   115100   116000   116500   \n",
      "541         542      NaN      NaN  ...    97100    99000   100700   102300   \n",
      "726         727      NaN      NaN  ...   218400   220900   222100   221500   \n",
      "879         880      NaN      NaN  ...   134600   137800   141100   143900   \n",
      "888         889      NaN      NaN  ...   152500   152900   152300   151000   \n",
      "900         901      NaN      NaN  ...   756400   772200   797600   808800   \n",
      "1043       1044      NaN      NaN  ...    98300    98700    99300    99000   \n",
      "1405       1406      NaN      NaN  ...    67700    68100    68500    68900   \n",
      "1738       1739      NaN      NaN  ...   106900   108900   110000   110200   \n",
      "1798       1799      NaN      NaN  ...   817300   816400   815900   812900   \n",
      "1816       1817      NaN      NaN  ...   125200   125700   124900   123500   \n",
      "1854       1855      NaN      NaN  ...   178600   179000   178000   177000   \n",
      "1910       1911      NaN      NaN  ...   237000   238200   238900   238200   \n",
      "1977       1978      NaN      NaN  ...   160300   160900   162100   163400   \n",
      "2020       2021      NaN      NaN  ...   148900   150600   153000   155600   \n",
      "2129       2130      NaN      NaN  ...   325500   325400   325500   326200   \n",
      "2271       2272      NaN      NaN  ...   189400   190100   190700   191600   \n",
      "2385       2386      NaN      NaN  ...   185300   186500   187200   188400   \n",
      "2409       2410      NaN      NaN  ...   267200   271600   275400   277900   \n",
      "2459       2460      NaN      NaN  ...    92200    94300    94900    94200   \n",
      "2729       2730      NaN      NaN  ...   137200   137500   137400   136700   \n",
      "2837       2838      NaN      NaN  ...   223500   224800   226000   227700   \n",
      "2914       2915      NaN      NaN  ...  1844400  1826600  1816100  1809400   \n",
      "2995       2996      NaN      NaN  ...    66500    68500    70000    70800   \n",
      "3087       3088      NaN      NaN  ...   225100   226600   228500   229400   \n",
      "3149       3150      NaN      NaN  ...   119700   121700   125200   128000   \n",
      "...         ...      ...      ...  ...      ...      ...      ...      ...   \n",
      "15154     15155      NaN      NaN  ...    45200    45100    45600    46300   \n",
      "15156     15157      NaN      NaN  ...    60700    61600    61900    62000   \n",
      "15157     15158      NaN      NaN  ...    93500    93500    94400    94700   \n",
      "15170     15171      NaN      NaN  ...    64900    65500    67400    70500   \n",
      "15172     15173      NaN      NaN  ...   540700   523600   512100   509700   \n",
      "15190     15191      NaN      NaN  ...    78900    79100    79800    79900   \n",
      "15212     15213      NaN      NaN  ...   106700   108800   110500   111100   \n",
      "15221     15222      NaN      NaN  ...    43400    41500    39900    39300   \n",
      "15224     15225      NaN      NaN  ...    90900    93400    95800    98200   \n",
      "15238     15239      NaN      NaN  ...    70700    71300    71700    71600   \n",
      "15239     15240      NaN      NaN  ...   112000   114000   116700   118400   \n",
      "15240     15241      NaN      NaN  ...    79000    80000    80900    81300   \n",
      "15252     15253      NaN      NaN  ...    85100    86200    86700    86800   \n",
      "15281     15282      NaN      NaN  ...    78900    81100    81500    81000   \n",
      "15309     15310      NaN      NaN  ...   125900   126800   127400   127700   \n",
      "15312     15313      NaN      NaN  ...    47500    47500    47300    47200   \n",
      "15320     15321      NaN      NaN  ...   186100   185900   186900   188400   \n",
      "15329     15330      NaN      NaN  ...   187100   187800   189500   190900   \n",
      "15337     15338      NaN      NaN  ...    91400    91400    90400    89600   \n",
      "15340     15341      NaN      NaN  ...    47100    47000    46700    46400   \n",
      "15341     15342      NaN      NaN  ...   141800   141000   140700   142400   \n",
      "15355     15356      NaN      NaN  ...   178100   178600   180300   182900   \n",
      "15369     15370      NaN      NaN  ...    47000    47100    47200    47000   \n",
      "15399     15400      NaN      NaN  ...   205000   205000   207600   210600   \n",
      "15424     15425      NaN      NaN  ...    90100    93600    94200    93800   \n",
      "15450     15451      NaN      NaN  ...   178200   178400   178700   178300   \n",
      "15452     15453      NaN      NaN  ...    77900    81000    83200    85100   \n",
      "15456     15457      NaN      NaN  ...    99900   100400   100600   101100   \n",
      "15487     15488      NaN      NaN  ...   712000   700000   696000   686700   \n",
      "15489     15490      NaN      NaN  ...   238800   243600   245400   248100   \n",
      "\n",
      "       2018-07  2018-08  2018-09  2018-10  2018-11  2018-12  \n",
      "39      396600   401800   411800   424200   438000   449600  \n",
      "97     1502500  1519300  1519600  1511200  1519600  1534200  \n",
      "350    1557500  1575400  1585100  1578600  1563900  1555400  \n",
      "402     117100   116500   115900   116000   117300   118100  \n",
      "493     116700   117100   117600   117700   118000   118600  \n",
      "541     102500   102100   103100   104700   104700   104100  \n",
      "726     219800   218300   217200   218100   218100   216900  \n",
      "879     146000   148400   152900   159500   164500   166400  \n",
      "888     149600   147800   148200   151000   153900   155300  \n",
      "900     801400   776600   749000   729700   725200   727000  \n",
      "1043     98200    98000    99700   103300   106200   106900  \n",
      "1405     70100    72100    74400    76500    78300    79300  \n",
      "1738    109700   109300   109800   111200   112300   113100  \n",
      "1798    810700   815700   823400   826900   823100   819100  \n",
      "1816    124800   129200   135200   139200   140500   140400  \n",
      "1854    176100   175800   176900   179800   181500   181700  \n",
      "1910    237000   237200   238900   242000   245600   248200  \n",
      "1977    164200   165400   167100   169400   171700   173100  \n",
      "2020    158300   161200   164300   167700   170800   171900  \n",
      "2129    326400   326000   326800   329900   333600   337000  \n",
      "2271    193100   194400   195400   196300   197800   199100  \n",
      "2385    189600   190000   189700   189800   190700   191400  \n",
      "2409    281100   286300   292400   295200   294700   293600  \n",
      "2459     93700    94400    96700    98900    99100    98100  \n",
      "2729    136500   137400   138700   139400   140500   141700  \n",
      "2837    228500   229000   230800   232900   235000   237200  \n",
      "2914   1803600  1801200  1806300  1813600  1816300  1823400  \n",
      "2995     70800    70900    71000    71800    72400    71900  \n",
      "3087    231100   235000   238300   240400   243600   246800  \n",
      "3149    129100   129900   130700   131200   131000   130800  \n",
      "...        ...      ...      ...      ...      ...      ...  \n",
      "15154    47000    48100    49000    49000    48700    48800  \n",
      "15156    63300    64200    63800    62900    62000    61200  \n",
      "15157    94400    93700    93600    94200    94800    94900  \n",
      "15170    73400    75400    77200    78000    77800    77400  \n",
      "15172   509700   506200   497600   487400   480900   478300  \n",
      "15190    79900    80700    81100    81300    81900    82000  \n",
      "15212   111200   110800   110400   111000   112200   112600  \n",
      "15221    38600    37900    37500    37300    37300    37100  \n",
      "15224   102600   106300   107100   109300   112800   113800  \n",
      "15238    71300    72000    74400    77100    78100    78000  \n",
      "15239   117800   115600   115100   116500   117800   119300  \n",
      "15240    82300    84000    86000    87700    88600    88300  \n",
      "15252    85600    83900    83100    83000    82500    82400  \n",
      "15281    80500    79600    79000    79000    79200    79500  \n",
      "15309   127600   128000   130100   132600   134800   136200  \n",
      "15312    47300    47400    47400    47400    47400    47600  \n",
      "15320   188900   189100   189900   190000   190100   190100  \n",
      "15329   192000   193600   196000   197300   198400   199500  \n",
      "15337    90400    91500    92500    93500    94600    94900  \n",
      "15340    46400    46600    47000    47200    47300    47300  \n",
      "15341   143600   142800   142800   144200   146500   148600  \n",
      "15355   185600   188800   191900   194900   197400   199200  \n",
      "15369    47000    46900    46800    46800    46900    46900  \n",
      "15399   212500   213400   213900   213100   212900   213400  \n",
      "15424    95200    97500    97700    96500    96600    98400  \n",
      "15450   178100   178100   177900   177900   178300   178600  \n",
      "15452    87200    90100    93300    96800    98800    98100  \n",
      "15456   102000   102900   104200   106600   110800   114800  \n",
      "15487   681800   678700   678100   676700   677500   677200  \n",
      "15489   249200   250000   249800   249700   250500   252500  \n",
      "\n",
      "[669 rows x 281 columns]\n"
     ]
    }
   ],
   "source": [
    "#  Here I had to remove null values \n",
    "print(df[df['2007-08'].isnull()])"
   ]
  },
  {
   "cell_type": "code",
   "execution_count": 73,
   "metadata": {},
   "outputs": [],
   "source": [
    "#remove all non numeric values \n",
    "df1['2007-08'] = pd.to_numeric(df['2007-08'], errors='coerce')"
   ]
  },
  {
   "cell_type": "code",
   "execution_count": 74,
   "metadata": {},
   "outputs": [
    {
     "data": {
      "text/plain": [
       "Unnamed: 0    0\n",
       "RegionID      0\n",
       "RegionName    0\n",
       "City          0\n",
       "State         0\n",
       "Metro         0\n",
       "CountyName    0\n",
       "SizeRank      0\n",
       "1996-04       0\n",
       "1996-05       0\n",
       "1996-06       0\n",
       "1996-07       0\n",
       "1996-08       0\n",
       "1996-09       0\n",
       "1996-10       0\n",
       "1996-11       0\n",
       "1996-12       0\n",
       "1997-01       0\n",
       "1997-02       0\n",
       "1997-03       0\n",
       "1997-04       0\n",
       "1997-05       0\n",
       "1997-06       0\n",
       "1997-07       0\n",
       "1997-08       0\n",
       "1997-09       0\n",
       "1997-10       0\n",
       "1997-11       0\n",
       "1997-12       0\n",
       "1998-01       0\n",
       "             ..\n",
       "2016-07       0\n",
       "2016-08       0\n",
       "2016-09       0\n",
       "2016-10       0\n",
       "2016-11       0\n",
       "2016-12       0\n",
       "2017-01       0\n",
       "2017-02       0\n",
       "2017-03       0\n",
       "2017-04       0\n",
       "2017-05       0\n",
       "2017-06       0\n",
       "2017-07       0\n",
       "2017-08       0\n",
       "2017-09       0\n",
       "2017-10       0\n",
       "2017-11       0\n",
       "2017-12       0\n",
       "2018-01       0\n",
       "2018-02       0\n",
       "2018-03       0\n",
       "2018-04       0\n",
       "2018-05       0\n",
       "2018-06       0\n",
       "2018-07       0\n",
       "2018-08       0\n",
       "2018-09       0\n",
       "2018-10       0\n",
       "2018-11       0\n",
       "2018-12       0\n",
       "Length: 281, dtype: int64"
      ]
     },
     "execution_count": 74,
     "metadata": {},
     "output_type": "execute_result"
    }
   ],
   "source": [
    "df1= df1.dropna()\n",
    "df1['2007-08'] = df1['2007-08'].astype(int)\n",
    "df1.isnull().sum()"
   ]
  },
  {
   "cell_type": "code",
   "execution_count": 76,
   "metadata": {},
   "outputs": [
    {
     "data": {
      "image/png": "[encoded data removed]",
      "text/plain": [
       "<Figure size 1440x720 with 1 Axes>"
      ]
     },
     "metadata": {
      "needs_background": "light"
     },
     "output_type": "display_data"
    }
   ],
   "source": [
    "rcParams['figure.figsize'] = 20, 10\n",
    "\n",
    "\n",
    "g = sns.distplot( df1[\"2007-08\"] , color=\"skyblue\", label=\"\")\n",
    "sns.distplot( df1[\"2018-08\"] , color=\"red\").set_title(\"Housing prices 2007-08 vs 2018-08 in US\")\n",
    "g.set(xlim=(-100000, 1000000))\n",
    "g.set(ylabel = 'percent of Total')\n",
    "g.set(xlabel = 'Price')\n",
    "plt.axvline(df1['2007-08'].mean(), color='b', linestyle='solid', linewidth=2)\n",
    "plt.axvline(df1['2018-08'].mean(), color='r', linestyle='solid', linewidth=2)\n",
    "\n",
    "plt.axvline(df1['2007-08'].mean() + df1['2007-08'].std(), color='b', linestyle='dashed', linewidth=1)\n",
    "plt.axvline(df1['2007-08'].mean() - df1['2007-08'].std(), color='b', linestyle='dashed', linewidth=1)\n",
    "plt.axvline(df1['2018-08'].mean() + df1['2018-08'].std(), color='r', linestyle='dashed', linewidth=1)\n",
    "plt.axvline(df1['2018-08'].mean() - df1['2018-08'].std(), color='r', linestyle='dashed', linewidth=1)\n",
    "\n",
    "plt.gca().legend(('mean 2009-08','mean 2018 -18','std 2009','std 2018'))\n",
    "plt.show()\n",
    "\n",
    "#sns.plt.show()"
   ]
  },
  {
   "cell_type": "markdown",
   "metadata": {},
   "source": [
    "The graph above represents US Housing market before the recession in 2007 vs 2018. We have definitly eclipsed those prices but not by much. "
   ]
  },
  {
   "cell_type": "markdown",
   "metadata": {},
   "source": [
    "### Proposed further research \n",
    "    \n",
    "    After doing this EDA it would be very beneficial to to know when is the right time to invest in Housing Market or buy a house in general to make the most gains on your capital. It would also be beneficial to know how the inflation rate has played a role in these prices.There is much to be learned from these once in a while finiancial crisis. Their impact can be see all over the country especiall in emerging markets such as Colorado. While these events propose a great investment opportunity, it is also a great learning opportunity because it can give us more insight on the Financial system can be improved and the impact of recession can be decreased"
   ]
  },
  {
   "cell_type": "code",
   "execution_count": null,
   "metadata": {},
   "outputs": [],
   "source": []
  }
 ],
 "metadata": {
  "kernelspec": {
   "display_name": "Python 3",
   "language": "python",
   "name": "python3"
  },
  "language_info": {
   "codemirror_mode": {
    "name": "ipython",
    "version": 3
   },
   "file_extension": ".py",
   "mimetype": "text/x-python",
   "name": "python",
   "nbconvert_exporter": "python",
   "pygments_lexer": "ipython3",
   "version": "3.7.3"
  }
 },
 "nbformat": 4,
 "nbformat_minor": 2
}
